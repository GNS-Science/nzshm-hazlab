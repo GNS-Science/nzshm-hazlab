{
 "cells": [
  {
   "cell_type": "code",
   "execution_count": 1,
   "metadata": {},
   "outputs": [],
   "source": [
    "from openquake.commonlib import datastore\n",
    "from nzshm_common.location import location\n",
    "\n",
    "import h5py\n",
    "import numpy as np\n",
    "import pandas as pd\n",
    "from pathlib import Path\n",
    "\n",
    "# set all single line variables to be displayed, not just the last line\n",
    "from IPython.core.interactiveshell import InteractiveShell\n",
    "InteractiveShell.ast_node_interactivity = \"all\""
   ]
  },
  {
   "cell_type": "code",
   "execution_count": null,
   "metadata": {},
   "outputs": [],
   "source": [
    "from openquake.calculators.extract import Extractor\n",
    "calc_id = '/home/chrisdc/Downloads/calc_1.hdf5'\n",
    "extractor = Extractor(calc_id)\n",
    "foo = extractor.get('disagg?kind=Mag&spec=rlzs&imt=PGA&poe_id=0&site_id=0')"
   ]
  },
  {
   "cell_type": "code",
   "execution_count": 2,
   "metadata": {},
   "outputs": [],
   "source": [
    "### function defined here instead of using\n",
    "#   from oq_hazard_report.read_oq_hdf5 import *\n",
    "#   now this requires from nzshm_common.location import location instead...\n",
    "\n",
    "def find_site_names(sites,dtol=0.001):\n",
    "    '''\n",
    "    sets site names as the index for the sites dataframe\n",
    "    '''\n",
    "\n",
    "    def name_from_latlon(lat, lon, location_codes, dtol):\n",
    "        lat_idx = (location_codes['latitude'] >= lat-dtol) & (location_codes['latitude'] <= lat+dtol)\n",
    "        lon_idx = (location_codes['longitude'] >= lon-dtol) & (location_codes['longitude'] <= lon+dtol)\n",
    "        idx = lat_idx & lon_idx\n",
    "        if not True in idx.values:\n",
    "            return f'Lat: {lat:.2f}, Lon: {lon:.2f}'\n",
    "        return location_codes[lat_idx & lon_idx].index\n",
    "\n",
    "    location_codes = {}\n",
    "    for loc in location.LOCATIONS:\n",
    "        location_codes[loc['name']] = {'id':loc['id'],'latitude':loc['latitude'],'longitude':loc['longitude']}\n",
    "    location_codes = pd.DataFrame(location_codes).transpose()\n",
    "\n",
    "\n",
    "    sites.loc[0,'name'] = 'dummy'\n",
    "    if 'custom_site_id' in sites:\n",
    "        for i in sites.index:\n",
    "            id_idx = location_codes['id'] == sites.loc[i,'custom_site_id']\n",
    "            if True in id_idx.values:\n",
    "                try:\n",
    "                    sites.loc[i,'name'] = location_codes[id_idx].index\n",
    "                except: #handle duplicate custom_site_ids by looking up by lat lon\n",
    "                    sites.loc[i,'name'] = name_from_latlon(sites.loc[i,'lat'], sites.loc[i,'lon'], location_codes, dtol)\n",
    "            else: #if it's not on the list just use the custom_site_id\n",
    "                sites.loc[i,'name'] = sites.loc[i,'custom_site_id']\n",
    "    else:\n",
    "        for i in sites.index:\n",
    "            sites.loc[i,'name'] = name_from_latlon(sites.loc[i,'lat'], sites.loc[i,'lon'], location_codes, dtol)\n",
    "    \n",
    "    return sites.set_index('name')"
   ]
  },
  {
   "cell_type": "code",
   "execution_count": 3,
   "metadata": {},
   "outputs": [],
   "source": [
    "def extract_disagg(filename):\n",
    "    \n",
    "    dstore = datastore.read(filename)\n",
    "    oqparam = vars(dstore['oqparam'])\n",
    "    imtls = oqparam['hazard_imtls']\n",
    "    inv_time = oqparam['investigation_time']\n",
    "    sites = find_site_names(dstore.read_df('sitecol'),dtol=0.001)\n",
    "    dstore.close()\n",
    "    \n",
    "    if len(sites)==1:\n",
    "        site = sites.index.values[0]\n",
    "    else:\n",
    "        raise NameError('hdf5 includes more than one site location.')\n",
    "        \n",
    "    if len(imtls)==1:\n",
    "        imt = list(imtls.keys())[0]\n",
    "    else:\n",
    "        raise NameError('hdf5 includes more than one IMT.')\n",
    "        \n",
    "    if len(imtls[imt])==1:\n",
    "        imtl = imtls[imt][0]\n",
    "    else:\n",
    "        raise NameError(f'hdf5 includes more than one IMTL for {imt}.')\n",
    "    \n",
    "    with h5py.File(filename) as hf:\n",
    "        poe = np.squeeze(hf['poe4'][:])\n",
    "        \n",
    "        full_disagg = np.squeeze(hf['disagg']['Mag_Dist_TRT_Eps'][:])\n",
    "        full_disagg_contribution = full_disagg / poe\n",
    "        \n",
    "        mag_dist_disagg = np.squeeze(hf['disagg']['Mag_Dist'][:])\n",
    "        mag_dist_disagg_contribution = mag_dist_disagg / poe\n",
    "\n",
    "        dist_bin_edges = hf['disagg-bins']['Dist'][:]\n",
    "        mag_bin_edges = hf['disagg-bins']['Mag'][:]\n",
    "        eps_bin_edges = hf['disagg-bins']['Eps'][:]\n",
    "\n",
    "        trt_bins = [x.decode('UTF-8') for x in hf['disagg-bins']['TRT'][:]]\n",
    "        dist_bins = (dist_bin_edges[1:]-dist_bin_edges[:-1])/2 + dist_bin_edges[:-1]\n",
    "        eps_bins = (eps_bin_edges[1:]-eps_bin_edges[:-1])/2 + eps_bin_edges[:-1]\n",
    "        mag_bins = (mag_bin_edges[1:]-mag_bin_edges[:-1])/2 + mag_bin_edges[:-1] \n",
    "\n",
    "    disagg = {}\n",
    "    disagg['site'] = site\n",
    "    disagg['imt'] = imt\n",
    "    disagg['imtl'] = imtl\n",
    "    disagg['poe'] = poe\n",
    "    disagg['inv_time'] = inv_time\n",
    "    disagg['disagg_matrix'] = full_disagg\n",
    "    disagg['bins'] = {'mag_bins':mag_bins,\n",
    "                      'dist_bins':dist_bins,\n",
    "                      'trt_bins':trt_bins,\n",
    "                      'eps_bins':eps_bins}\n",
    "    disagg['bin_edges'] = {'mag_bin_edges':mag_bin_edges,\n",
    "                           'dist_bin_edges':dist_bin_edges,\n",
    "                           'eps_bin_edges':eps_bin_edges}\n",
    "    \n",
    "    return disagg"
   ]
  },
  {
   "cell_type": "code",
   "execution_count": 4,
   "metadata": {},
   "outputs": [],
   "source": [
    "folder = ''\n",
    "oq_id = 1\n",
    "filename = f'calc_{oq_id}.hdf5'\n",
    "filename = str(Path(folder,filename))\n"
   ]
  },
  {
   "cell_type": "code",
   "execution_count": 8,
   "metadata": {},
   "outputs": [],
   "source": [
    "### disagg metadata\n",
    "disagg = extract_disagg(filename)\n",
    "site = disagg['site']\n",
    "imt = disagg['imt']\n",
    "imtl = disagg['imtl']\n",
    "poe = disagg['poe']\n",
    "inv_time = disagg['inv_time']\n",
    "rp = -inv_time/np.log(1-poe)\n",
    "poe_50 = 100*(1 - np.exp(-50/rp))"
   ]
  },
  {
   "cell_type": "code",
   "execution_count": 19,
   "metadata": {},
   "outputs": [
    {
     "name": "stdout",
     "output_type": "stream",
     "text": [
      "Shape of disagg_matrix: (6, 50, 4, 10)\n",
      "\n",
      "N mag bins: 6\n",
      "\tmiddle value of the bins:[7.25 7.75 8.25 8.75 9.25 9.75]\n",
      "N dist bins: 50\n",
      "\tmiddle value of the bins:[  5.  15.  25.  35.  45.  55.  65.  75.  85.  95. 105. 115. 125. 135.\n",
      " 145. 155. 165. 175. 185. 195. 205. 215. 225. 235. 245. 255. 265. 275.\n",
      " 285. 295. 305. 315. 325. 335. 345. 355. 365. 375. 385. 395. 405. 415.\n",
      " 425. 435. 445. 455. 465. 475. 485. 495.]\n",
      "N trt bins: 1\n",
      "\tmiddle value of the bins:['Subduction Interface']\n",
      "N eps bins: 4\n",
      "\tmiddle value of the bins:[-3. -1.  1.  3.]\n"
     ]
    }
   ],
   "source": [
    "shape = disagg['disagg_matrix'].shape\n",
    "print(f'Shape of disagg_matrix: {shape}')\n",
    "\n",
    "print()\n",
    "for bin_type in ['mag','dist','trt','eps']:\n",
    "    n_bins = len(disagg['bins'][f'{bin_type}_bins'])\n",
    "    print(f'N {bin_type} bins: {n_bins}')\n",
    "    print('\\tmiddle value of the bins:' + str(disagg['bins'][f'{bin_type}_bins']))\n"
   ]
  },
  {
   "cell_type": "code",
   "execution_count": 21,
   "metadata": {},
   "outputs": [
    {
     "data": {
      "text/plain": [
       "4.866669056036166e-05"
      ]
     },
     "execution_count": 21,
     "metadata": {},
     "output_type": "execute_result"
    },
    {
     "data": {
      "text/plain": [
       "5.570595403736611e-06"
      ]
     },
     "execution_count": 21,
     "metadata": {},
     "output_type": "execute_result"
    },
    {
     "data": {
      "text/plain": [
       "2.4102213136423245e-07"
      ]
     },
     "execution_count": 21,
     "metadata": {},
     "output_type": "execute_result"
    },
    {
     "data": {
      "text/plain": [
       "0.00013301822860911638"
      ]
     },
     "execution_count": 21,
     "metadata": {},
     "output_type": "execute_result"
    },
    {
     "data": {
      "text/plain": [
       "1.900886505334931e-05"
      ]
     },
     "execution_count": 21,
     "metadata": {},
     "output_type": "execute_result"
    },
    {
     "data": {
      "text/plain": [
       "1.4228828831841511e-06"
      ]
     },
     "execution_count": 21,
     "metadata": {},
     "output_type": "execute_result"
    },
    {
     "data": {
      "text/plain": [
       "8.154848569397188e-05"
      ]
     },
     "execution_count": 21,
     "metadata": {},
     "output_type": "execute_result"
    },
    {
     "data": {
      "text/plain": [
       "1.6122198819523703e-05"
      ]
     },
     "execution_count": 21,
     "metadata": {},
     "output_type": "execute_result"
    },
    {
     "data": {
      "text/plain": [
       "2.2809869899553803e-06"
      ]
     },
     "execution_count": 21,
     "metadata": {},
     "output_type": "execute_result"
    },
    {
     "data": {
      "text/plain": [
       "4.157181678876576e-05"
      ]
     },
     "execution_count": 21,
     "metadata": {},
     "output_type": "execute_result"
    }
   ],
   "source": [
    "# check the poe over all bins for the realization\n",
    "\n",
    "(_,_,_,n_rlz) = disagg['disagg_matrix'].shape\n",
    "for i_rlz in range(n_rlz):\n",
    "    poe[i_rlz]"
   ]
  },
  {
   "cell_type": "code",
   "execution_count": null,
   "metadata": {},
   "outputs": [],
   "source": []
  }
 ],
 "metadata": {
  "kernelspec": {
   "display_name": "Python 3.8.10 ('openquake')",
   "language": "python",
   "name": "python3"
  },
  "language_info": {
   "codemirror_mode": {
    "name": "ipython",
    "version": 3
   },
   "file_extension": ".py",
   "mimetype": "text/x-python",
   "name": "python",
   "nbconvert_exporter": "python",
   "pygments_lexer": "ipython3",
   "version": "3.8.10 (default, Nov 14 2022, 12:59:47) \n[GCC 9.4.0]"
  },
  "vscode": {
   "interpreter": {
    "hash": "190acb03c72f692dc3c199a4c12a1a0c28d93a56a1c3f651f7076860337ad29b"
   }
  }
 },
 "nbformat": 4,
 "nbformat_minor": 4
}
